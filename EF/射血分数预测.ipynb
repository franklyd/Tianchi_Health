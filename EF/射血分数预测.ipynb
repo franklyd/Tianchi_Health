{
 "cells": [
  {
   "cell_type": "code",
   "execution_count": 7,
   "metadata": {
    "collapsed": true
   },
   "outputs": [],
   "source": [
    "import lightgbm as lgb\n",
    "import pandas as pd\n",
    "import numpy as np"
   ]
  },
  {
   "cell_type": "code",
   "execution_count": 8,
   "metadata": {
    "collapsed": false
   },
   "outputs": [
    {
     "name": "stdout",
     "output_type": "stream",
     "text": [
      "(1874, 301)\n",
      "(1874,)\n"
     ]
    }
   ],
   "source": [
    "X = pd.read_csv('X_ef.csv', index_col='id')\n",
    "y = pd.read_csv('ef_Y.csv',header=None, index_col=0)\n",
    "y = y[1]\n",
    "print(X.shape)\n",
    "print(y.shape)"
   ]
  },
  {
   "cell_type": "code",
   "execution_count": 9,
   "metadata": {
    "collapsed": true
   },
   "outputs": [],
   "source": [
    "cat_cols = []\n",
    "cols = X.columns\n",
    "for col in cols:\n",
    "    if col == 'cl_EF_射血分数':\n",
    "        continue\n",
    "    if X[col].dtype == 'O':\n",
    "        cat_cols.append(col)\n",
    "        X[col] = X[col].astype('category')\n",
    "        X[col] = pd.Categorical(X[col].cat.codes+1)"
   ]
  },
  {
   "cell_type": "code",
   "execution_count": 46,
   "metadata": {
    "collapsed": false
   },
   "outputs": [
    {
     "name": "stderr",
     "output_type": "stream",
     "text": [
      "/home/xps/anaconda3/lib/python3.5/site-packages/lightgbm/basic.py:1036: UserWarning: Using categorical_feature in Dataset.\n",
      "  warnings.warn('Using categorical_feature in Dataset.')\n"
     ]
    },
    {
     "name": "stdout",
     "output_type": "stream",
     "text": [
      "[200]\tcv_agg's l2: 40.688 + 4.32193\n",
      "[400]\tcv_agg's l2: 39.7815 + 3.85122\n",
      "score   learning rate iterations  max_depth  num_leaves\n",
      "39.71922713   0.0200    441     12        13\n"
     ]
    }
   ],
   "source": [
    "## Cross validation to search for good parameters\n",
    "lr = 0.02\n",
    "for num_l in [13]:\n",
    "    for depth in [12]:\n",
    "        lgb_params = {\n",
    "     #'num_boost_round': 2500,\n",
    "    'learning_rate':lr,\n",
    "    'max_depth': depth,\n",
    "    'num_leaves': num_l, \n",
    "    'objective': 'regression',\n",
    "    'num_class':1,\n",
    "    'tree_learner':'voting',\n",
    "    'metric':'mean_squared_error',\n",
    "    'feature_fraction': 0.4,\n",
    "    'bagging_fraction': 0.6,\n",
    "    'min_data_in_leaf': 15,\n",
    "    'max_bin': 150}\n",
    "        dtrain_lgb = lgb.Dataset(X, label=y,categorical_feature=cat_cols)\n",
    "        cv_result_lgb = lgb.cv(lgb_params, \n",
    "                       dtrain_lgb, \n",
    "                       num_boost_round = 800, \n",
    "                       nfold=10, \n",
    "                       stratified=False,\n",
    "                       early_stopping_rounds=20, \n",
    "                       verbose_eval=200, \n",
    "                       show_stdv=True)\n",
    "        #results.append(cv_result_lgb['l2-mean'][-1])\n",
    "        print('score   learning rate iterations  max_depth  num_leaves')\n",
    "        print('%.8f   %.4f    %d     %d        %d' \n",
    "              %(cv_result_lgb['l2-mean'][-1], lr, len(cv_result_lgb['l2-mean']), depth, num_l))"
   ]
  },
  {
   "cell_type": "code",
   "execution_count": 48,
   "metadata": {
    "collapsed": false
   },
   "outputs": [
    {
     "name": "stderr",
     "output_type": "stream",
     "text": [
      "/home/xps/anaconda3/lib/python3.5/site-packages/lightgbm/basic.py:1036: UserWarning: Using categorical_feature in Dataset.\n",
      "  warnings.warn('Using categorical_feature in Dataset.')\n"
     ]
    }
   ],
   "source": [
    "# Train the model with good parameters\n",
    "lgb_params = {\n",
    "     #'num_boost_round': 2500,\n",
    "    'learning_rate':lr,\n",
    "    'max_depth': depth,\n",
    "    'num_leaves': num_l, \n",
    "    'objective': 'regression',\n",
    "    'num_class':1,\n",
    "    'tree_learner':'voting',\n",
    "    'metric':'mean_squared_error',\n",
    "    'feature_fraction': 0.4,\n",
    "    'bagging_fraction': 0.6,\n",
    "    'min_data_in_leaf': 15,\n",
    "    'max_bin': 150}\n",
    "dtrain_lgb = lgb.Dataset(X, label=y,categorical_feature=cat_cols)\n",
    "gbm = lgb.train(lgb_params,\n",
    "                dtrain_lgb,\n",
    "                num_boost_round = 441\n",
    "               )"
   ]
  },
  {
   "cell_type": "code",
   "execution_count": 104,
   "metadata": {
    "collapsed": true
   },
   "outputs": [],
   "source": [
    "def print_and_save_feature_importance(model, display = True):\n",
    "    feat_weights = model.feature_importance()\n",
    "    feat_names = model.feature_name()\n",
    "    sorted_idx = np.argsort(feat_weights)[::-1]\n",
    "    df = pd.DataFrame(columns=['feature name','importance'])\n",
    "    for i,idx in enumerate(sorted_idx):\n",
    "        if display:\n",
    "            print('%s: %d' %(feat_names[idx],feat_weights[idx]))\n",
    "        df.loc[i] = [feat_names[idx],feat_weights[idx]]\n",
    "    return df"
   ]
  },
  {
   "cell_type": "code",
   "execution_count": 108,
   "metadata": {
    "collapsed": false
   },
   "outputs": [
    {
     "data": {
      "text/html": [
       "<div>\n",
       "<style scoped>\n",
       "    .dataframe tbody tr th:only-of-type {\n",
       "        vertical-align: middle;\n",
       "    }\n",
       "\n",
       "    .dataframe tbody tr th {\n",
       "        vertical-align: top;\n",
       "    }\n",
       "\n",
       "    .dataframe thead th {\n",
       "        text-align: right;\n",
       "    }\n",
       "</style>\n",
       "<table border=\"1\" class=\"dataframe\">\n",
       "  <thead>\n",
       "    <tr style=\"text-align: right;\">\n",
       "      <th></th>\n",
       "      <th>feature name</th>\n",
       "      <th>importance</th>\n",
       "    </tr>\n",
       "  </thead>\n",
       "  <tbody>\n",
       "    <tr>\n",
       "      <th>0</th>\n",
       "      <td>2404</td>\n",
       "      <td>99</td>\n",
       "    </tr>\n",
       "    <tr>\n",
       "      <th>1</th>\n",
       "      <td>2333</td>\n",
       "      <td>99</td>\n",
       "    </tr>\n",
       "    <tr>\n",
       "      <th>2</th>\n",
       "      <td>10004</td>\n",
       "      <td>87</td>\n",
       "    </tr>\n",
       "    <tr>\n",
       "      <th>3</th>\n",
       "      <td>1106</td>\n",
       "      <td>79</td>\n",
       "    </tr>\n",
       "    <tr>\n",
       "      <th>4</th>\n",
       "      <td>cl_BMI_sq</td>\n",
       "      <td>79</td>\n",
       "    </tr>\n",
       "    <tr>\n",
       "      <th>5</th>\n",
       "      <td>1815</td>\n",
       "      <td>78</td>\n",
       "    </tr>\n",
       "    <tr>\n",
       "      <th>6</th>\n",
       "      <td>191</td>\n",
       "      <td>75</td>\n",
       "    </tr>\n",
       "    <tr>\n",
       "      <th>7</th>\n",
       "      <td>10002</td>\n",
       "      <td>75</td>\n",
       "    </tr>\n",
       "    <tr>\n",
       "      <th>8</th>\n",
       "      <td>190</td>\n",
       "      <td>74</td>\n",
       "    </tr>\n",
       "    <tr>\n",
       "      <th>9</th>\n",
       "      <td>669021</td>\n",
       "      <td>73</td>\n",
       "    </tr>\n",
       "    <tr>\n",
       "      <th>10</th>\n",
       "      <td>舒张压</td>\n",
       "      <td>69</td>\n",
       "    </tr>\n",
       "    <tr>\n",
       "      <th>11</th>\n",
       "      <td>1107</td>\n",
       "      <td>64</td>\n",
       "    </tr>\n",
       "    <tr>\n",
       "      <th>12</th>\n",
       "      <td>1117</td>\n",
       "      <td>64</td>\n",
       "    </tr>\n",
       "    <tr>\n",
       "      <th>13</th>\n",
       "      <td>33</td>\n",
       "      <td>63</td>\n",
       "    </tr>\n",
       "    <tr>\n",
       "      <th>14</th>\n",
       "      <td>2174</td>\n",
       "      <td>58</td>\n",
       "    </tr>\n",
       "    <tr>\n",
       "      <th>15</th>\n",
       "      <td>1814</td>\n",
       "      <td>57</td>\n",
       "    </tr>\n",
       "    <tr>\n",
       "      <th>16</th>\n",
       "      <td>2386</td>\n",
       "      <td>57</td>\n",
       "    </tr>\n",
       "    <tr>\n",
       "      <th>17</th>\n",
       "      <td>183</td>\n",
       "      <td>55</td>\n",
       "    </tr>\n",
       "    <tr>\n",
       "      <th>18</th>\n",
       "      <td>收缩压</td>\n",
       "      <td>54</td>\n",
       "    </tr>\n",
       "    <tr>\n",
       "      <th>19</th>\n",
       "      <td>A701</td>\n",
       "      <td>52</td>\n",
       "    </tr>\n",
       "  </tbody>\n",
       "</table>\n",
       "</div>"
      ],
      "text/plain": [
       "   feature name importance\n",
       "0          2404         99\n",
       "1          2333         99\n",
       "2         10004         87\n",
       "3          1106         79\n",
       "4     cl_BMI_sq         79\n",
       "5          1815         78\n",
       "6           191         75\n",
       "7         10002         75\n",
       "8           190         74\n",
       "9        669021         73\n",
       "10          舒张压         69\n",
       "11         1107         64\n",
       "12         1117         64\n",
       "13           33         63\n",
       "14         2174         58\n",
       "15         1814         57\n",
       "16         2386         57\n",
       "17          183         55\n",
       "18          收缩压         54\n",
       "19         A701         52"
      ]
     },
     "execution_count": 108,
     "metadata": {},
     "output_type": "execute_result"
    }
   ],
   "source": [
    "df =  print_and_save_feature_importance(gbm, display=False)\n",
    "df.to_csv('feature_importance.csv')\n",
    "df.head(20)"
   ]
  }
 ],
 "metadata": {
  "kernelspec": {
   "display_name": "Python 3",
   "language": "python",
   "name": "python3"
  },
  "language_info": {
   "codemirror_mode": {
    "name": "ipython",
    "version": 3
   },
   "file_extension": ".py",
   "mimetype": "text/x-python",
   "name": "python",
   "nbconvert_exporter": "python",
   "pygments_lexer": "ipython3",
   "version": "3.5.1"
  }
 },
 "nbformat": 4,
 "nbformat_minor": 0
}
